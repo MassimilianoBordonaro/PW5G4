{
  "cells": [
    {
      "cell_type": "markdown",
      "metadata": {},
      "source": [
        "# Imports"
      ]
    },
    {
      "cell_type": "code",
      "execution_count": null,
      "metadata": {},
      "outputs": [],
      "source": [
        "from azure.storage.blob import BlobClient\n",
        "import pandas as pd\n",
        "import io\n",
        "from sklearn.preprocessing import LabelEncoder\n",
        "from sklearn.model_selection import train_test_split\n",
        "from sklearn.ensemble import RandomForestClassifier\n",
        "from sklearn.metrics import classification_report\n",
        "from azure.storage.blob import BlobServiceClient\n",
        "from io import StringIO\n"
      ]
    },
    {
      "cell_type": "markdown",
      "metadata": {
        "nteract": {
          "transient": {
            "deleting": false
          }
        }
      },
      "source": [
        "# Connection"
      ]
    },
    {
      "cell_type": "code",
      "execution_count": null,
      "metadata": {
        "gather": {
          "logged": 1738073226445
        }
      },
      "outputs": [],
      "source": [
        "from azure.storage.blob import BlobServiceClient\n",
        "\n",
        "connect_str = \"DefaultEndpointsProtocol=https;AccountName=mlpw5g48966911887;AccountKey=mrAhppNTLycLK1odEtWiGfubfle5TJfUMwex5QV2+Q8Ggk6kMSvBUXwY+JTILISiJjRqNhEIr/oJ+AStpDybJQ==;EndpointSuffix=core.windows.net\"\n",
        "blob_service_client = BlobServiceClient.from_connection_string(connect_str)"
      ]
    },
    {
      "cell_type": "code",
      "execution_count": 2,
      "metadata": {
        "gather": {
          "logged": 1738073393260
        }
      },
      "outputs": [],
      "source": [
        "container_name = \"flights\"\n",
        "blob_name = \"flights_weather.csv\"\n",
        "\n",
        "blob_client = blob_service_client.get_blob_client(container=container_name, blob=blob_name)\n",
        "\n",
        "data = io.BytesIO(blob_client.download_blob().readall())\n",
        "df = pd.read_csv(data, low_memory=False)"
      ]
    },
    {
      "cell_type": "markdown",
      "metadata": {
        "nteract": {
          "transient": {
            "deleting": false
          }
        }
      },
      "source": [
        "### Making a category for the rain and removing NaN rows"
      ]
    },
    {
      "cell_type": "code",
      "execution_count": 3,
      "metadata": {
        "gather": {
          "logged": 1738073462312
        }
      },
      "outputs": [],
      "source": [
        "# Remove rows where any of these columns have null values\n",
        "df.dropna(subset=['DepTime', 'ArrTime', 'DepDelay', 'ArrDelay', 'rain (mm)Dep', 'rain (mm)Arr'], inplace=True)\n",
        "\n",
        "# Remove diverted flights\n",
        "df = df[df['Diverted'] == 0]\n",
        "\n",
        "# Define rain categories\n",
        "def categorize_rain(amount):\n",
        "    if amount == 0:\n",
        "        return 'No rain'\n",
        "    elif amount <= 5:\n",
        "        return 'Light rain'\n",
        "    elif amount <= 15:\n",
        "        return 'Moderate rain'\n",
        "    else:\n",
        "        return 'Heavy rain'\n",
        "\n",
        "# Apply the categorization to departure and arrival rain data\n",
        "df['rain_category_Dep'] = df['rain (mm)Dep'].apply(categorize_rain)\n",
        "df['rain_category_Arr'] = df['rain (mm)Arr'].apply(categorize_rain)\n",
        "\n",
        "# Optionally, drop the original rain columns if no longer needed\n",
        "df.drop(['rain (mm)Dep', 'rain (mm)Arr'], axis=1, inplace=True)"
      ]
    },
    {
      "cell_type": "markdown",
      "metadata": {
        "nteract": {
          "transient": {
            "deleting": false
          }
        }
      },
      "source": [
        "# Departures machine learning"
      ]
    },
    {
      "cell_type": "code",
      "execution_count": 4,
      "metadata": {
        "gather": {
          "logged": 1738076568736
        }
      },
      "outputs": [],
      "source": [
        "# List of columns to keep for the departure model\n",
        "departure_columns = [\n",
        "    'DepDelay', 'DepDel15', 'Origin', 'CRSDepTime', 'TaxiOut',\n",
        "    'rain_category_Dep', 'wind_speed_10m (km/h)Dep',\n",
        "    'wind_direction_10m (°)Dep', 'temperature_2m (°C)Dep', 'relative_humidity_2m (%)Dep',\n",
        "    'cloud_cover (%)Dep', 'weather_code (wmo code)Dep'\n",
        "]\n",
        "\n",
        "# Reduce the dataframe to only the departure-related columns\n",
        "df_departures = df[departure_columns]"
      ]
    },
    {
      "cell_type": "code",
      "execution_count": 5,
      "metadata": {
        "gather": {
          "logged": 1738076576407
        }
      },
      "outputs": [
        {
          "data": {
            "text/html": [
              "<div>\n",
              "<style scoped>\n",
              "    .dataframe tbody tr th:only-of-type {\n",
              "        vertical-align: middle;\n",
              "    }\n",
              "\n",
              "    .dataframe tbody tr th {\n",
              "        vertical-align: top;\n",
              "    }\n",
              "\n",
              "    .dataframe thead th {\n",
              "        text-align: right;\n",
              "    }\n",
              "</style>\n",
              "<table border=\"1\" class=\"dataframe\">\n",
              "  <thead>\n",
              "    <tr style=\"text-align: right;\">\n",
              "      <th></th>\n",
              "      <th>DepDelay</th>\n",
              "      <th>DepDel15</th>\n",
              "      <th>Origin</th>\n",
              "      <th>CRSDepTime</th>\n",
              "      <th>TaxiOut</th>\n",
              "      <th>rain_category_Dep</th>\n",
              "      <th>wind_speed_10m (km/h)Dep</th>\n",
              "      <th>wind_direction_10m (°)Dep</th>\n",
              "      <th>temperature_2m (°C)Dep</th>\n",
              "      <th>relative_humidity_2m (%)Dep</th>\n",
              "      <th>cloud_cover (%)Dep</th>\n",
              "      <th>weather_code (wmo code)Dep</th>\n",
              "    </tr>\n",
              "  </thead>\n",
              "  <tbody>\n",
              "    <tr>\n",
              "      <th>0</th>\n",
              "      <td>10.0</td>\n",
              "      <td>0.0</td>\n",
              "      <td>SBN</td>\n",
              "      <td>06:00</td>\n",
              "      <td>20.0</td>\n",
              "      <td>No rain</td>\n",
              "      <td>8.0</td>\n",
              "      <td>333.0</td>\n",
              "      <td>16.6</td>\n",
              "      <td>79.0</td>\n",
              "      <td>24.0</td>\n",
              "      <td>1.0</td>\n",
              "    </tr>\n",
              "    <tr>\n",
              "      <th>1</th>\n",
              "      <td>-4.0</td>\n",
              "      <td>0.0</td>\n",
              "      <td>SBN</td>\n",
              "      <td>06:00</td>\n",
              "      <td>14.0</td>\n",
              "      <td>No rain</td>\n",
              "      <td>8.1</td>\n",
              "      <td>148.0</td>\n",
              "      <td>11.6</td>\n",
              "      <td>73.0</td>\n",
              "      <td>0.0</td>\n",
              "      <td>0.0</td>\n",
              "    </tr>\n",
              "    <tr>\n",
              "      <th>2</th>\n",
              "      <td>-9.0</td>\n",
              "      <td>0.0</td>\n",
              "      <td>SBN</td>\n",
              "      <td>06:00</td>\n",
              "      <td>15.0</td>\n",
              "      <td>No rain</td>\n",
              "      <td>13.0</td>\n",
              "      <td>222.0</td>\n",
              "      <td>20.4</td>\n",
              "      <td>56.0</td>\n",
              "      <td>9.0</td>\n",
              "      <td>0.0</td>\n",
              "    </tr>\n",
              "    <tr>\n",
              "      <th>3</th>\n",
              "      <td>-3.0</td>\n",
              "      <td>0.0</td>\n",
              "      <td>SBN</td>\n",
              "      <td>06:00</td>\n",
              "      <td>14.0</td>\n",
              "      <td>No rain</td>\n",
              "      <td>13.7</td>\n",
              "      <td>207.0</td>\n",
              "      <td>22.5</td>\n",
              "      <td>60.0</td>\n",
              "      <td>1.0</td>\n",
              "      <td>0.0</td>\n",
              "    </tr>\n",
              "    <tr>\n",
              "      <th>4</th>\n",
              "      <td>3.0</td>\n",
              "      <td>0.0</td>\n",
              "      <td>CLT</td>\n",
              "      <td>14:30</td>\n",
              "      <td>21.0</td>\n",
              "      <td>No rain</td>\n",
              "      <td>9.5</td>\n",
              "      <td>261.0</td>\n",
              "      <td>29.8</td>\n",
              "      <td>45.0</td>\n",
              "      <td>0.0</td>\n",
              "      <td>0.0</td>\n",
              "    </tr>\n",
              "    <tr>\n",
              "      <th>...</th>\n",
              "      <td>...</td>\n",
              "      <td>...</td>\n",
              "      <td>...</td>\n",
              "      <td>...</td>\n",
              "      <td>...</td>\n",
              "      <td>...</td>\n",
              "      <td>...</td>\n",
              "      <td>...</td>\n",
              "      <td>...</td>\n",
              "      <td>...</td>\n",
              "      <td>...</td>\n",
              "      <td>...</td>\n",
              "    </tr>\n",
              "    <tr>\n",
              "      <th>5407542</th>\n",
              "      <td>92.0</td>\n",
              "      <td>1.0</td>\n",
              "      <td>IAH</td>\n",
              "      <td>20:05</td>\n",
              "      <td>13.0</td>\n",
              "      <td>No rain</td>\n",
              "      <td>3.6</td>\n",
              "      <td>225.0</td>\n",
              "      <td>33.6</td>\n",
              "      <td>51.0</td>\n",
              "      <td>25.0</td>\n",
              "      <td>1.0</td>\n",
              "    </tr>\n",
              "    <tr>\n",
              "      <th>5407544</th>\n",
              "      <td>44.0</td>\n",
              "      <td>1.0</td>\n",
              "      <td>EWR</td>\n",
              "      <td>14:40</td>\n",
              "      <td>94.0</td>\n",
              "      <td>No rain</td>\n",
              "      <td>7.6</td>\n",
              "      <td>251.0</td>\n",
              "      <td>29.3</td>\n",
              "      <td>73.0</td>\n",
              "      <td>54.0</td>\n",
              "      <td>2.0</td>\n",
              "    </tr>\n",
              "    <tr>\n",
              "      <th>5407545</th>\n",
              "      <td>39.0</td>\n",
              "      <td>1.0</td>\n",
              "      <td>DEN</td>\n",
              "      <td>19:05</td>\n",
              "      <td>15.0</td>\n",
              "      <td>No rain</td>\n",
              "      <td>4.5</td>\n",
              "      <td>104.0</td>\n",
              "      <td>32.2</td>\n",
              "      <td>30.0</td>\n",
              "      <td>4.0</td>\n",
              "      <td>0.0</td>\n",
              "    </tr>\n",
              "    <tr>\n",
              "      <th>5407546</th>\n",
              "      <td>8.0</td>\n",
              "      <td>0.0</td>\n",
              "      <td>ORD</td>\n",
              "      <td>15:50</td>\n",
              "      <td>19.0</td>\n",
              "      <td>Light rain</td>\n",
              "      <td>17.8</td>\n",
              "      <td>21.0</td>\n",
              "      <td>19.3</td>\n",
              "      <td>88.0</td>\n",
              "      <td>99.0</td>\n",
              "      <td>53.0</td>\n",
              "    </tr>\n",
              "    <tr>\n",
              "      <th>5407547</th>\n",
              "      <td>64.0</td>\n",
              "      <td>1.0</td>\n",
              "      <td>ORF</td>\n",
              "      <td>13:25</td>\n",
              "      <td>14.0</td>\n",
              "      <td>No rain</td>\n",
              "      <td>10.2</td>\n",
              "      <td>190.0</td>\n",
              "      <td>26.0</td>\n",
              "      <td>86.0</td>\n",
              "      <td>100.0</td>\n",
              "      <td>3.0</td>\n",
              "    </tr>\n",
              "  </tbody>\n",
              "</table>\n",
              "<p>5231485 rows × 12 columns</p>\n",
              "</div>"
            ],
            "text/plain": [
              "         DepDelay  DepDel15 Origin CRSDepTime  TaxiOut rain_category_Dep  \\\n",
              "0            10.0       0.0    SBN      06:00     20.0           No rain   \n",
              "1            -4.0       0.0    SBN      06:00     14.0           No rain   \n",
              "2            -9.0       0.0    SBN      06:00     15.0           No rain   \n",
              "3            -3.0       0.0    SBN      06:00     14.0           No rain   \n",
              "4             3.0       0.0    CLT      14:30     21.0           No rain   \n",
              "...           ...       ...    ...        ...      ...               ...   \n",
              "5407542      92.0       1.0    IAH      20:05     13.0           No rain   \n",
              "5407544      44.0       1.0    EWR      14:40     94.0           No rain   \n",
              "5407545      39.0       1.0    DEN      19:05     15.0           No rain   \n",
              "5407546       8.0       0.0    ORD      15:50     19.0        Light rain   \n",
              "5407547      64.0       1.0    ORF      13:25     14.0           No rain   \n",
              "\n",
              "         wind_speed_10m (km/h)Dep  wind_direction_10m (°)Dep  \\\n",
              "0                             8.0                      333.0   \n",
              "1                             8.1                      148.0   \n",
              "2                            13.0                      222.0   \n",
              "3                            13.7                      207.0   \n",
              "4                             9.5                      261.0   \n",
              "...                           ...                        ...   \n",
              "5407542                       3.6                      225.0   \n",
              "5407544                       7.6                      251.0   \n",
              "5407545                       4.5                      104.0   \n",
              "5407546                      17.8                       21.0   \n",
              "5407547                      10.2                      190.0   \n",
              "\n",
              "         temperature_2m (°C)Dep  relative_humidity_2m (%)Dep  \\\n",
              "0                          16.6                         79.0   \n",
              "1                          11.6                         73.0   \n",
              "2                          20.4                         56.0   \n",
              "3                          22.5                         60.0   \n",
              "4                          29.8                         45.0   \n",
              "...                         ...                          ...   \n",
              "5407542                    33.6                         51.0   \n",
              "5407544                    29.3                         73.0   \n",
              "5407545                    32.2                         30.0   \n",
              "5407546                    19.3                         88.0   \n",
              "5407547                    26.0                         86.0   \n",
              "\n",
              "         cloud_cover (%)Dep  weather_code (wmo code)Dep  \n",
              "0                      24.0                         1.0  \n",
              "1                       0.0                         0.0  \n",
              "2                       9.0                         0.0  \n",
              "3                       1.0                         0.0  \n",
              "4                       0.0                         0.0  \n",
              "...                     ...                         ...  \n",
              "5407542                25.0                         1.0  \n",
              "5407544                54.0                         2.0  \n",
              "5407545                 4.0                         0.0  \n",
              "5407546                99.0                        53.0  \n",
              "5407547               100.0                         3.0  \n",
              "\n",
              "[5231485 rows x 12 columns]"
            ]
          },
          "metadata": {},
          "output_type": "display_data"
        }
      ],
      "source": [
        "display(df_departures)"
      ]
    },
    {
      "cell_type": "markdown",
      "metadata": {
        "nteract": {
          "transient": {
            "deleting": false
          }
        }
      },
      "source": [
        "### Encodig the airports"
      ]
    },
    {
      "cell_type": "code",
      "execution_count": 6,
      "metadata": {
        "gather": {
          "logged": 1738076579318
        }
      },
      "outputs": [
        {
          "name": "stderr",
          "output_type": "stream",
          "text": [
            "/tmp/ipykernel_5322/2476772047.py:34: SettingWithCopyWarning: \n",
            "A value is trying to be set on a copy of a slice from a DataFrame.\n",
            "Try using .loc[row_indexer,col_indexer] = value instead\n",
            "\n",
            "See the caveats in the documentation: https://pandas.pydata.org/pandas-docs/stable/user_guide/indexing.html#returning-a-view-versus-a-copy\n",
            "  df_departures['Origin_encoded'] = df_departures['Origin'].map(airport_labels)\n"
          ]
        }
      ],
      "source": [
        "# List of provided airport codes\n",
        "airport_codes = [\n",
        "    \"PLN\", \"BTV\", \"CWA\", \"TWF\", \"ABE\", \"MLI\", \"PHF\", \"OME\", \"VLD\", \"ROA\", \"PSM\", \"JAN\", \"DCA\", \"MDT\", \"HOB\",\n",
        "    \"SCC\", \"BNA\", \"ACK\", \"SHR\", \"MKE\", \"LGA\", \"RDM\", \"IDA\", \"OAJ\", \"MYR\", \"PSG\", \"JAX\", \"MSN\", \"JMS\", \"SHD\",\n",
        "    \"AUS\", \"TOL\", \"CHA\", \"AMA\", \"MGM\", \"ABY\", \"SAT\", \"ISP\", \"MEM\", \"LBF\", \"HPN\", \"ONT\", \"HYS\", \"COS\", \"BGR\",\n",
        "    \"BDL\", \"PAE\", \"MFR\", \"SCK\", \"STX\", \"ABR\", \"FLL\", \"SAN\", \"FAI\", \"CSG\", \"DAL\", \"ALO\", \"RAP\", \"DHN\", \"MTJ\",\n",
        "    \"ECP\", \"HHH\", \"ELP\", \"LGB\", \"INL\", \"BRD\", \"CGI\", \"AVL\", \"DEC\", \"SPS\", \"RFD\", \"HGR\", \"BOI\", \"PIH\", \"LWS\",\n",
        "    \"SUX\", \"BRW\", \"DSM\", \"BPT\", \"WYS\", \"IAD\", \"MAF\", \"HOU\", \"BFL\", \"OWB\", \"TUL\", \"CLT\", \"ADQ\", \"PAH\", \"CNY\",\n",
        "    \"HRL\", \"DTW\", \"ICT\", \"ESC\", \"JLN\", \"GPT\", \"TYR\", \"LBE\", \"KTN\", \"GFK\", \"FWA\", \"SLC\", \"OTH\", \"LIH\", \"BLI\",\n",
        "    \"JNU\", \"SMX\", \"HIB\", \"EAR\", \"BQN\", \"MVY\", \"FAR\", \"XNA\", \"BWI\", \"ORF\", \"ACV\", \"USA\", \"RIW\", \"LSE\", \"RSW\",\n",
        "    \"ROW\", \"IAH\", \"HTS\", \"FNT\", \"ALS\", \"LAX\", \"PSC\", \"SRQ\", \"EGE\", \"FSD\", \"GEG\", \"MKG\", \"PIE\", \"BMI\", \"GST\",\n",
        "    \"TLH\", \"PWM\", \"BGM\", \"ATW\", \"GRR\", \"BIS\", \"XWA\", \"SJC\", \"LYH\", \"BUF\", \"BZN\", \"AGS\", \"SEA\", \"AVP\", \"ADK\",\n",
        "    \"DFW\", \"PSE\", \"STT\", \"SBN\", \"DEN\", \"PUW\", \"LNK\", \"LWB\", \"LRD\", \"PBI\", \"TXK\", \"ABI\", \"FLG\", \"OKC\", \"SMF\",\n",
        "    \"SUN\", \"EKO\", \"MLB\", \"MBS\", \"BRO\", \"CHS\", \"LAN\", \"AZA\", \"TPA\", \"RST\", \"MQT\", \"JAC\", \"ELM\", \"SYR\", \"LBL\",\n",
        "    \"DDC\", \"RNO\", \"MEI\", \"ACT\", \"EYW\", \"CYS\", \"SBA\", \"PVD\", \"CRP\", \"IAG\", \"CDC\", \"PIA\", \"SIT\", \"PBG\", \"DAY\",\n",
        "    \"CIU\", \"PUB\", \"YAK\", \"SJT\", \"LFT\", \"APN\", \"SAV\", \"BKG\", \"ITO\", \"EWR\", \"ILG\", \"SNA\", \"GRK\", \"GSO\", \"MSY\",\n",
        "    \"LIT\", \"GSP\", \"ACY\", \"HYA\", \"PSP\", \"GTR\", \"DLG\", \"DBQ\", \"SGF\", \"FSM\", \"GUC\", \"IND\", \"TVC\", \"MRY\", \"YKM\",\n",
        "    \"LAR\", \"SJU\", \"PNS\", \"SWF\", \"BET\", \"CLL\", \"COD\", \"OGG\", \"CRW\", \"DAB\", \"GRI\", \"KOA\", \"CMX\", \"TYS\", \"DVL\",\n",
        "    \"RHI\", \"SDF\", \"MSO\", \"GRB\", \"SBP\", \"SWO\", \"GJT\", \"OTZ\", \"ANC\", \"HDN\", \"MIA\", \"MOT\", \"BTR\", \"TBN\", \"OMA\",\n",
        "    \"DIK\", \"EVV\", \"PIT\", \"EWN\", \"SGU\", \"EAU\", \"MHK\", \"EUG\", \"YUM\", \"LBB\", \"DRO\", \"MLU\", \"DRT\", \"MCI\", \"PGD\",\n",
        "    \"FCA\", \"GCC\", \"GNV\", \"BLV\", \"HLN\", \"FAY\", \"BUR\", \"MOB\", \"FOD\", \"BQK\", \"CHO\", \"ASE\", \"RIC\", \"COU\", \"DLH\",\n",
        "    \"MSP\", \"VEL\", \"ROC\", \"BHM\", \"ORD\", \"VPS\", \"LAW\", \"GTF\", \"CPR\", \"STC\", \"CMH\", \"CMI\", \"SHV\", \"ORH\", \"MHT\",\n",
        "    \"PDX\", \"SLN\", \"RDU\", \"CVG\", \"BJI\", \"RKS\", \"CDV\", \"BIL\", \"CLE\", \"ATL\", \"LEX\", \"STL\", \"HSV\", \"SCE\", \"RDD\",\n",
        "    \"GCK\", \"PHX\", \"WRG\", \"AZO\", \"EAT\", \"BOS\", \"ERI\", \"SFO\", \"BTM\", \"CAK\", \"LAS\", \"PIB\", \"MDW\", \"OGS\", \"PVU\",\n",
        "    \"CAE\", \"AKN\", \"ALB\", \"PHL\", \"LCH\", \"TEX\", \"SAF\", \"ABQ\", \"AEX\", \"ALW\", \"BFF\", \"BIH\", \"CID\", \"CKB\", \"FAT\",\n",
        "    \"GGG\", \"HNL\", \"ILM\", \"IMT\", \"ITH\", \"JFK\", \"JST\", \"LCK\", \"MCO\", \"MCW\", \"MFE\", \"OAK\", \"PRC\", \"SFB\", \"SPI\",\n",
        "    \"STS\", \"TRI\", \"TTN\", \"TUS\", \"TWS\", \"VCT\"\n",
        "]\n",
        "\n",
        "# Creating an encoding map sorted alphabetically\n",
        "airport_labels = {code: i for i, code in enumerate(sorted(airport_codes))}\n",
        "\n",
        "# Adding a new column to the DataFrame with the encoded values\n",
        "df_departures['Origin_encoded'] = df_departures['Origin'].map(airport_labels)"
      ]
    },
    {
      "cell_type": "markdown",
      "metadata": {
        "nteract": {
          "transient": {
            "deleting": false
          }
        }
      },
      "source": [
        "### Encoding the rain "
      ]
    },
    {
      "cell_type": "code",
      "execution_count": 7,
      "metadata": {
        "gather": {
          "logged": 1738076586149
        }
      },
      "outputs": [
        {
          "name": "stdout",
          "output_type": "stream",
          "text": [
            "{'Heavy rain': 0, 'Light rain': 1, 'Moderate rain': 2, 'No rain': 3}\n"
          ]
        },
        {
          "name": "stderr",
          "output_type": "stream",
          "text": [
            "/tmp/ipykernel_5322/2330922055.py:7: SettingWithCopyWarning: \n",
            "A value is trying to be set on a copy of a slice from a DataFrame.\n",
            "Try using .loc[row_indexer,col_indexer] = value instead\n",
            "\n",
            "See the caveats in the documentation: https://pandas.pydata.org/pandas-docs/stable/user_guide/indexing.html#returning-a-view-versus-a-copy\n",
            "  df_departures['rain_category_Dep_encoded'] = encoder.fit_transform(df_departures['rain_category_Dep'])\n"
          ]
        }
      ],
      "source": [
        "# Creating an instance of LabelEncoder\n",
        "encoder = LabelEncoder()\n",
        "\n",
        "# Fitting the encoder and transforming the 'rain_category_Dep' column\n",
        "df_departures['rain_category_Dep_encoded'] = encoder.fit_transform(df_departures['rain_category_Dep'])\n",
        "\n",
        "# Optionally, to see the mapping from categorical labels to integers\n",
        "label_mapping = dict(zip(encoder.classes_, encoder.transform(encoder.classes_)))\n",
        "print(label_mapping)"
      ]
    },
    {
      "cell_type": "code",
      "execution_count": 8,
      "metadata": {
        "gather": {
          "logged": 1738076588789
        }
      },
      "outputs": [
        {
          "name": "stdout",
          "output_type": "stream",
          "text": [
            "        rain_category_Dep  rain_category_Dep_encoded\n",
            "0                 No rain                          3\n",
            "1                 No rain                          3\n",
            "2                 No rain                          3\n",
            "3                 No rain                          3\n",
            "4                 No rain                          3\n",
            "...                   ...                        ...\n",
            "5407542           No rain                          3\n",
            "5407544           No rain                          3\n",
            "5407545           No rain                          3\n",
            "5407546        Light rain                          1\n",
            "5407547           No rain                          3\n",
            "\n",
            "[5231485 rows x 2 columns]\n"
          ]
        }
      ],
      "source": [
        "# Check the first few entries of the new encoded column\n",
        "print(df_departures[['rain_category_Dep', 'rain_category_Dep_encoded']])"
      ]
    },
    {
      "cell_type": "markdown",
      "metadata": {
        "nteract": {
          "transient": {
            "deleting": false
          }
        }
      },
      "source": [
        "### Splitting the dataset"
      ]
    },
    {
      "cell_type": "code",
      "execution_count": 9,
      "metadata": {
        "gather": {
          "logged": 1738076593878
        }
      },
      "outputs": [
        {
          "name": "stdout",
          "output_type": "stream",
          "text": [
            "Training set size: 3923613 samples\n",
            "Testing set size: 1307872 samples\n"
          ]
        }
      ],
      "source": [
        "# Define features and target\n",
        "X = df_departures.drop('DepDelay', axis=1)  # all other columns are features\n",
        "y = df_departures['DepDelay']  # DepDelay is the target\n",
        "\n",
        "# Split the dataset into training (75%) and testing (25%) sets\n",
        "X_train, X_test, y_train, y_test = train_test_split(X, y, test_size=0.25, random_state=42)\n",
        "\n",
        "# Output the sizes of the train and test sets to verify\n",
        "print(f\"Training set size: {X_train.shape[0]} samples\")\n",
        "print(f\"Testing set size: {X_test.shape[0]} samples\")"
      ]
    },
    {
      "cell_type": "markdown",
      "metadata": {
        "nteract": {
          "transient": {
            "deleting": false
          }
        }
      },
      "source": [
        "### Preparing the data"
      ]
    },
    {
      "cell_type": "code",
      "execution_count": 10,
      "metadata": {
        "gather": {
          "logged": 1738076599912
        }
      },
      "outputs": [
        {
          "name": "stdout",
          "output_type": "stream",
          "text": [
            "0    360\n",
            "1    360\n",
            "2    360\n",
            "3    360\n",
            "4    870\n",
            "Name: CRSDepTime, dtype: int64\n"
          ]
        },
        {
          "name": "stderr",
          "output_type": "stream",
          "text": [
            "/tmp/ipykernel_5322/1274299914.py:2: SettingWithCopyWarning: \n",
            "A value is trying to be set on a copy of a slice from a DataFrame.\n",
            "Try using .loc[row_indexer,col_indexer] = value instead\n",
            "\n",
            "See the caveats in the documentation: https://pandas.pydata.org/pandas-docs/stable/user_guide/indexing.html#returning-a-view-versus-a-copy\n",
            "  df_departures['CRSDepTime'] = df_departures['CRSDepTime'].apply(lambda x: int(x.split(':')[0]) * 60 + int(x.split(':')[1]))\n"
          ]
        }
      ],
      "source": [
        "# Convert 'CRSDepTime' from 'HH:MM' format to minutes past midnight\n",
        "df_departures['CRSDepTime'] = df_departures['CRSDepTime'].apply(lambda x: int(x.split(':')[0]) * 60 + int(x.split(':')[1]))\n",
        "\n",
        "# Confirm the transformation\n",
        "print(df_departures['CRSDepTime'].head())"
      ]
    },
    {
      "cell_type": "markdown",
      "metadata": {
        "nteract": {
          "transient": {
            "deleting": false
          }
        }
      },
      "source": [
        "### Precision, Recall, F1 Score and Support"
      ]
    },
    {
      "cell_type": "markdown",
      "metadata": {
        "nteract": {
          "transient": {
            "deleting": false
          }
        }
      },
      "source": [
        "# "
      ]
    },
    {
      "cell_type": "code",
      "execution_count": 11,
      "metadata": {
        "gather": {
          "logged": 1738078186662
        }
      },
      "outputs": [
        {
          "name": "stdout",
          "output_type": "stream",
          "text": [
            "                   precision    recall  f1-score   support\n",
            "\n",
            "   0 min - 1 hour     0.5643    0.5090    0.5352    503915\n",
            "        1-3 hours     0.4045    0.2271    0.2909     96468\n",
            "            early     0.7257    0.8407    0.7789    683898\n",
            "more than 3 hours     0.2427    0.0716    0.1105     23591\n",
            "\n",
            "         accuracy                         0.6537   1307872\n",
            "        macro avg     0.4843    0.4121    0.4289   1307872\n",
            "     weighted avg     0.6311    0.6537    0.6370   1307872\n",
            "\n"
          ]
        }
      ],
      "source": [
        "# Define features and target variable, ensuring no non-numeric columns are included\n",
        "X = df_departures.drop(['DepDelay', 'Origin', 'rain_category_Dep'], axis=1)  # Adjust this line if there are other non-numeric columns\n",
        "y = df_departures['DepDelay']\n",
        "\n",
        "y = y.apply(\n",
        "    lambda row:\n",
        "        'early' if row < 0\n",
        "        else ('0 min - 1 hour' if row <= 60\n",
        "        else ('1-3 hours' if row <= 180\n",
        "        else 'more than 3 hours'\n",
        "        ))\n",
        ")\n",
        "\n",
        "# Split the dataset\n",
        "X_train, X_test, y_train, y_test = train_test_split(X, y, test_size=0.25, random_state=42)\n",
        "\n",
        "# Continue with the setup of the RandomForestClassifier\n",
        "classifier = RandomForestClassifier(n_estimators=100, random_state=42)\n",
        "classifier.fit(X_train, y_train)\n",
        "\n",
        "# Predicting and evaluating\n",
        "y_pred_class = classifier.predict(X_test)\n",
        "\n",
        "# Printing classification report\n",
        "report = classification_report(y_test, y_pred_class, digits=4)\n",
        "print(report)"
      ]
    },
    {
      "cell_type": "markdown",
      "metadata": {
        "nteract": {
          "transient": {
            "deleting": false
          }
        }
      },
      "source": [
        "### Saving to csv"
      ]
    },
    {
      "cell_type": "code",
      "execution_count": 26,
      "metadata": {
        "gather": {
          "logged": 1738079181281
        }
      },
      "outputs": [
        {
          "name": "stdout",
          "output_type": "stream",
          "text": [
            "File departuresml.csv successfully saved in azureml on Azure Blob Storage.\n"
          ]
        }
      ],
      "source": [
        "connect_str = 'DefaultEndpointsProtocol=https;AccountName=mlpw5g48966911887;AccountKey=mrAhppNTLycLK1odEtWiGfubfle5TJfUMwex5QV2+Q8Ggk6kMSvBUXwY+JTILISiJjRqNhEIr/oJ+AStpDybJQ==;EndpointSuffix=core.windows.net'  \n",
        "container_name = 'azureml' \n",
        "blob_name = 'departuresml.csv'  \n",
        "\n",
        "# Create a blob service client to interact with the blob storage\n",
        "blob_service_client = BlobServiceClient.from_connection_string(connect_str)\n",
        "container_client = blob_service_client.get_container_client(container_name)\n",
        "\n",
        "# Convert the DataFrame to a CSV string\n",
        "output = StringIO()\n",
        "df_departures.to_csv(output, index=False)\n",
        "output.seek(0)\n",
        "\n",
        "# Create a blob in the specified container and upload the data\n",
        "blob_client = container_client.get_blob_client(blob_name)\n",
        "blob_client.upload_blob(output.getvalue(), overwrite=True)\n",
        "\n",
        "print(f\"File {blob_name} successfully saved in {container_name} on Azure Blob Storage.\")"
      ]
    },
    {
      "cell_type": "markdown",
      "metadata": {
        "nteract": {
          "transient": {
            "deleting": false
          }
        }
      },
      "source": [
        "#  Arrivals machine learning"
      ]
    },
    {
      "cell_type": "code",
      "execution_count": 15,
      "metadata": {
        "gather": {
          "logged": 1738073470310
        }
      },
      "outputs": [],
      "source": [
        "# List of columns to keep for the arrival model\n",
        "arrival_columns = [\n",
        "    'ArrDelay', 'ArrDel15', 'Dest', 'CRSArrTime', 'TaxiIn',\n",
        "    'rain_category_Arr', 'wind_speed_10m (km/h)Arr',\n",
        "    'wind_direction_10m (°)Arr', 'temperature_2m (°C)Arr', 'relative_humidity_2m (%)Arr',\n",
        "    'cloud_cover (%)Arr', 'weather_code (wmo code)Arr'\n",
        "]\n",
        "\n",
        "# Reduce the dataframe to only the arrival-related columns\n",
        "df_arrivals = df[arrival_columns]"
      ]
    },
    {
      "cell_type": "code",
      "execution_count": 16,
      "metadata": {
        "gather": {
          "logged": 1738073843757
        }
      },
      "outputs": [
        {
          "data": {
            "text/html": [
              "<div>\n",
              "<style scoped>\n",
              "    .dataframe tbody tr th:only-of-type {\n",
              "        vertical-align: middle;\n",
              "    }\n",
              "\n",
              "    .dataframe tbody tr th {\n",
              "        vertical-align: top;\n",
              "    }\n",
              "\n",
              "    .dataframe thead th {\n",
              "        text-align: right;\n",
              "    }\n",
              "</style>\n",
              "<table border=\"1\" class=\"dataframe\">\n",
              "  <thead>\n",
              "    <tr style=\"text-align: right;\">\n",
              "      <th></th>\n",
              "      <th>ArrDelay</th>\n",
              "      <th>ArrDel15</th>\n",
              "      <th>Dest</th>\n",
              "      <th>CRSArrTime</th>\n",
              "      <th>TaxiIn</th>\n",
              "      <th>rain_category_Arr</th>\n",
              "      <th>wind_speed_10m (km/h)Arr</th>\n",
              "      <th>wind_direction_10m (°)Arr</th>\n",
              "      <th>temperature_2m (°C)Arr</th>\n",
              "      <th>relative_humidity_2m (%)Arr</th>\n",
              "      <th>cloud_cover (%)Arr</th>\n",
              "      <th>weather_code (wmo code)Arr</th>\n",
              "    </tr>\n",
              "  </thead>\n",
              "  <tbody>\n",
              "    <tr>\n",
              "      <th>0</th>\n",
              "      <td>12.0</td>\n",
              "      <td>0.0</td>\n",
              "      <td>CLT</td>\n",
              "      <td>07:53</td>\n",
              "      <td>23.0</td>\n",
              "      <td>No rain</td>\n",
              "      <td>11.4</td>\n",
              "      <td>198.0</td>\n",
              "      <td>24.0</td>\n",
              "      <td>75.0</td>\n",
              "      <td>100.0</td>\n",
              "      <td>3.0</td>\n",
              "    </tr>\n",
              "    <tr>\n",
              "      <th>1</th>\n",
              "      <td>-17.0</td>\n",
              "      <td>0.0</td>\n",
              "      <td>CLT</td>\n",
              "      <td>07:53</td>\n",
              "      <td>11.0</td>\n",
              "      <td>No rain</td>\n",
              "      <td>14.1</td>\n",
              "      <td>15.0</td>\n",
              "      <td>21.0</td>\n",
              "      <td>89.0</td>\n",
              "      <td>100.0</td>\n",
              "      <td>3.0</td>\n",
              "    </tr>\n",
              "    <tr>\n",
              "      <th>2</th>\n",
              "      <td>-15.0</td>\n",
              "      <td>0.0</td>\n",
              "      <td>CLT</td>\n",
              "      <td>07:53</td>\n",
              "      <td>20.0</td>\n",
              "      <td>No rain</td>\n",
              "      <td>4.7</td>\n",
              "      <td>212.0</td>\n",
              "      <td>20.1</td>\n",
              "      <td>98.0</td>\n",
              "      <td>100.0</td>\n",
              "      <td>3.0</td>\n",
              "    </tr>\n",
              "    <tr>\n",
              "      <th>3</th>\n",
              "      <td>-14.0</td>\n",
              "      <td>0.0</td>\n",
              "      <td>CLT</td>\n",
              "      <td>07:53</td>\n",
              "      <td>15.0</td>\n",
              "      <td>No rain</td>\n",
              "      <td>3.4</td>\n",
              "      <td>108.0</td>\n",
              "      <td>21.0</td>\n",
              "      <td>99.0</td>\n",
              "      <td>100.0</td>\n",
              "      <td>3.0</td>\n",
              "    </tr>\n",
              "    <tr>\n",
              "      <th>4</th>\n",
              "      <td>-8.0</td>\n",
              "      <td>0.0</td>\n",
              "      <td>PIA</td>\n",
              "      <td>15:35</td>\n",
              "      <td>5.0</td>\n",
              "      <td>Light rain</td>\n",
              "      <td>12.2</td>\n",
              "      <td>358.0</td>\n",
              "      <td>18.1</td>\n",
              "      <td>88.0</td>\n",
              "      <td>100.0</td>\n",
              "      <td>61.0</td>\n",
              "    </tr>\n",
              "    <tr>\n",
              "      <th>...</th>\n",
              "      <td>...</td>\n",
              "      <td>...</td>\n",
              "      <td>...</td>\n",
              "      <td>...</td>\n",
              "      <td>...</td>\n",
              "      <td>...</td>\n",
              "      <td>...</td>\n",
              "      <td>...</td>\n",
              "      <td>...</td>\n",
              "      <td>...</td>\n",
              "      <td>...</td>\n",
              "      <td>...</td>\n",
              "    </tr>\n",
              "    <tr>\n",
              "      <th>5407542</th>\n",
              "      <td>70.0</td>\n",
              "      <td>1.0</td>\n",
              "      <td>ATL</td>\n",
              "      <td>23:15</td>\n",
              "      <td>4.0</td>\n",
              "      <td>No rain</td>\n",
              "      <td>8.7</td>\n",
              "      <td>355.0</td>\n",
              "      <td>30.5</td>\n",
              "      <td>58.0</td>\n",
              "      <td>100.0</td>\n",
              "      <td>3.0</td>\n",
              "    </tr>\n",
              "    <tr>\n",
              "      <th>5407544</th>\n",
              "      <td>107.0</td>\n",
              "      <td>1.0</td>\n",
              "      <td>IAH</td>\n",
              "      <td>17:23</td>\n",
              "      <td>9.0</td>\n",
              "      <td>No rain</td>\n",
              "      <td>3.8</td>\n",
              "      <td>311.0</td>\n",
              "      <td>32.6</td>\n",
              "      <td>56.0</td>\n",
              "      <td>27.0</td>\n",
              "      <td>1.0</td>\n",
              "    </tr>\n",
              "    <tr>\n",
              "      <th>5407545</th>\n",
              "      <td>24.0</td>\n",
              "      <td>1.0</td>\n",
              "      <td>RDM</td>\n",
              "      <td>20:37</td>\n",
              "      <td>3.0</td>\n",
              "      <td>No rain</td>\n",
              "      <td>11.9</td>\n",
              "      <td>305.0</td>\n",
              "      <td>30.1</td>\n",
              "      <td>15.0</td>\n",
              "      <td>0.0</td>\n",
              "      <td>0.0</td>\n",
              "    </tr>\n",
              "    <tr>\n",
              "      <th>5407546</th>\n",
              "      <td>17.0</td>\n",
              "      <td>1.0</td>\n",
              "      <td>DEN</td>\n",
              "      <td>17:37</td>\n",
              "      <td>9.0</td>\n",
              "      <td>No rain</td>\n",
              "      <td>9.7</td>\n",
              "      <td>141.0</td>\n",
              "      <td>29.3</td>\n",
              "      <td>39.0</td>\n",
              "      <td>10.0</td>\n",
              "      <td>0.0</td>\n",
              "    </tr>\n",
              "    <tr>\n",
              "      <th>5407547</th>\n",
              "      <td>48.0</td>\n",
              "      <td>1.0</td>\n",
              "      <td>ORD</td>\n",
              "      <td>14:47</td>\n",
              "      <td>12.0</td>\n",
              "      <td>Light rain</td>\n",
              "      <td>21.8</td>\n",
              "      <td>13.0</td>\n",
              "      <td>21.0</td>\n",
              "      <td>79.0</td>\n",
              "      <td>100.0</td>\n",
              "      <td>53.0</td>\n",
              "    </tr>\n",
              "  </tbody>\n",
              "</table>\n",
              "<p>5231485 rows × 12 columns</p>\n",
              "</div>"
            ],
            "text/plain": [
              "         ArrDelay  ArrDel15 Dest CRSArrTime  TaxiIn rain_category_Arr  \\\n",
              "0            12.0       0.0  CLT      07:53    23.0           No rain   \n",
              "1           -17.0       0.0  CLT      07:53    11.0           No rain   \n",
              "2           -15.0       0.0  CLT      07:53    20.0           No rain   \n",
              "3           -14.0       0.0  CLT      07:53    15.0           No rain   \n",
              "4            -8.0       0.0  PIA      15:35     5.0        Light rain   \n",
              "...           ...       ...  ...        ...     ...               ...   \n",
              "5407542      70.0       1.0  ATL      23:15     4.0           No rain   \n",
              "5407544     107.0       1.0  IAH      17:23     9.0           No rain   \n",
              "5407545      24.0       1.0  RDM      20:37     3.0           No rain   \n",
              "5407546      17.0       1.0  DEN      17:37     9.0           No rain   \n",
              "5407547      48.0       1.0  ORD      14:47    12.0        Light rain   \n",
              "\n",
              "         wind_speed_10m (km/h)Arr  wind_direction_10m (°)Arr  \\\n",
              "0                            11.4                      198.0   \n",
              "1                            14.1                       15.0   \n",
              "2                             4.7                      212.0   \n",
              "3                             3.4                      108.0   \n",
              "4                            12.2                      358.0   \n",
              "...                           ...                        ...   \n",
              "5407542                       8.7                      355.0   \n",
              "5407544                       3.8                      311.0   \n",
              "5407545                      11.9                      305.0   \n",
              "5407546                       9.7                      141.0   \n",
              "5407547                      21.8                       13.0   \n",
              "\n",
              "         temperature_2m (°C)Arr  relative_humidity_2m (%)Arr  \\\n",
              "0                          24.0                         75.0   \n",
              "1                          21.0                         89.0   \n",
              "2                          20.1                         98.0   \n",
              "3                          21.0                         99.0   \n",
              "4                          18.1                         88.0   \n",
              "...                         ...                          ...   \n",
              "5407542                    30.5                         58.0   \n",
              "5407544                    32.6                         56.0   \n",
              "5407545                    30.1                         15.0   \n",
              "5407546                    29.3                         39.0   \n",
              "5407547                    21.0                         79.0   \n",
              "\n",
              "         cloud_cover (%)Arr  weather_code (wmo code)Arr  \n",
              "0                     100.0                         3.0  \n",
              "1                     100.0                         3.0  \n",
              "2                     100.0                         3.0  \n",
              "3                     100.0                         3.0  \n",
              "4                     100.0                        61.0  \n",
              "...                     ...                         ...  \n",
              "5407542               100.0                         3.0  \n",
              "5407544                27.0                         1.0  \n",
              "5407545                 0.0                         0.0  \n",
              "5407546                10.0                         0.0  \n",
              "5407547               100.0                        53.0  \n",
              "\n",
              "[5231485 rows x 12 columns]"
            ]
          },
          "metadata": {},
          "output_type": "display_data"
        }
      ],
      "source": [
        "display(df_arrivals)"
      ]
    },
    {
      "cell_type": "markdown",
      "metadata": {
        "nteract": {
          "transient": {
            "deleting": false
          }
        }
      },
      "source": [
        "### Encoding the airports"
      ]
    },
    {
      "cell_type": "code",
      "execution_count": 17,
      "metadata": {
        "gather": {
          "logged": 1738073650459
        }
      },
      "outputs": [
        {
          "name": "stderr",
          "output_type": "stream",
          "text": [
            "/tmp/ipykernel_5322/3012298080.py:34: SettingWithCopyWarning: \n",
            "A value is trying to be set on a copy of a slice from a DataFrame.\n",
            "Try using .loc[row_indexer,col_indexer] = value instead\n",
            "\n",
            "See the caveats in the documentation: https://pandas.pydata.org/pandas-docs/stable/user_guide/indexing.html#returning-a-view-versus-a-copy\n",
            "  df_arrivals['Dest_encoded'] = df_arrivals['Dest'].map(airport_labels)\n"
          ]
        }
      ],
      "source": [
        "# List of provided airport codes\n",
        "airport_codes = [\n",
        "    \"PLN\", \"BTV\", \"CWA\", \"TWF\", \"ABE\", \"MLI\", \"PHF\", \"OME\", \"VLD\", \"ROA\", \"PSM\", \"JAN\", \"DCA\", \"MDT\", \"HOB\",\n",
        "    \"SCC\", \"BNA\", \"ACK\", \"SHR\", \"MKE\", \"LGA\", \"RDM\", \"IDA\", \"OAJ\", \"MYR\", \"PSG\", \"JAX\", \"MSN\", \"JMS\", \"SHD\",\n",
        "    \"AUS\", \"TOL\", \"CHA\", \"AMA\", \"MGM\", \"ABY\", \"SAT\", \"ISP\", \"MEM\", \"LBF\", \"HPN\", \"ONT\", \"HYS\", \"COS\", \"BGR\",\n",
        "    \"BDL\", \"PAE\", \"MFR\", \"SCK\", \"STX\", \"ABR\", \"FLL\", \"SAN\", \"FAI\", \"CSG\", \"DAL\", \"ALO\", \"RAP\", \"DHN\", \"MTJ\",\n",
        "    \"ECP\", \"HHH\", \"ELP\", \"LGB\", \"INL\", \"BRD\", \"CGI\", \"AVL\", \"DEC\", \"SPS\", \"RFD\", \"HGR\", \"BOI\", \"PIH\", \"LWS\",\n",
        "    \"SUX\", \"BRW\", \"DSM\", \"BPT\", \"WYS\", \"IAD\", \"MAF\", \"HOU\", \"BFL\", \"OWB\", \"TUL\", \"CLT\", \"ADQ\", \"PAH\", \"CNY\",\n",
        "    \"HRL\", \"DTW\", \"ICT\", \"ESC\", \"JLN\", \"GPT\", \"TYR\", \"LBE\", \"KTN\", \"GFK\", \"FWA\", \"SLC\", \"OTH\", \"LIH\", \"BLI\",\n",
        "    \"JNU\", \"SMX\", \"HIB\", \"EAR\", \"BQN\", \"MVY\", \"FAR\", \"XNA\", \"BWI\", \"ORF\", \"ACV\", \"USA\", \"RIW\", \"LSE\", \"RSW\",\n",
        "    \"ROW\", \"IAH\", \"HTS\", \"FNT\", \"ALS\", \"LAX\", \"PSC\", \"SRQ\", \"EGE\", \"FSD\", \"GEG\", \"MKG\", \"PIE\", \"BMI\", \"GST\",\n",
        "    \"TLH\", \"PWM\", \"BGM\", \"ATW\", \"GRR\", \"BIS\", \"XWA\", \"SJC\", \"LYH\", \"BUF\", \"BZN\", \"AGS\", \"SEA\", \"AVP\", \"ADK\",\n",
        "    \"DFW\", \"PSE\", \"STT\", \"SBN\", \"DEN\", \"PUW\", \"LNK\", \"LWB\", \"LRD\", \"PBI\", \"TXK\", \"ABI\", \"FLG\", \"OKC\", \"SMF\",\n",
        "    \"SUN\", \"EKO\", \"MLB\", \"MBS\", \"BRO\", \"CHS\", \"LAN\", \"AZA\", \"TPA\", \"RST\", \"MQT\", \"JAC\", \"ELM\", \"SYR\", \"LBL\",\n",
        "    \"DDC\", \"RNO\", \"MEI\", \"ACT\", \"EYW\", \"CYS\", \"SBA\", \"PVD\", \"CRP\", \"IAG\", \"CDC\", \"PIA\", \"SIT\", \"PBG\", \"DAY\",\n",
        "    \"CIU\", \"PUB\", \"YAK\", \"SJT\", \"LFT\", \"APN\", \"SAV\", \"BKG\", \"ITO\", \"EWR\", \"ILG\", \"SNA\", \"GRK\", \"GSO\", \"MSY\",\n",
        "    \"LIT\", \"GSP\", \"ACY\", \"HYA\", \"PSP\", \"GTR\", \"DLG\", \"DBQ\", \"SGF\", \"FSM\", \"GUC\", \"IND\", \"TVC\", \"MRY\", \"YKM\",\n",
        "    \"LAR\", \"SJU\", \"PNS\", \"SWF\", \"BET\", \"CLL\", \"COD\", \"OGG\", \"CRW\", \"DAB\", \"GRI\", \"KOA\", \"CMX\", \"TYS\", \"DVL\",\n",
        "    \"RHI\", \"SDF\", \"MSO\", \"GRB\", \"SBP\", \"SWO\", \"GJT\", \"OTZ\", \"ANC\", \"HDN\", \"MIA\", \"MOT\", \"BTR\", \"TBN\", \"OMA\",\n",
        "    \"DIK\", \"EVV\", \"PIT\", \"EWN\", \"SGU\", \"EAU\", \"MHK\", \"EUG\", \"YUM\", \"LBB\", \"DRO\", \"MLU\", \"DRT\", \"MCI\", \"PGD\",\n",
        "    \"FCA\", \"GCC\", \"GNV\", \"BLV\", \"HLN\", \"FAY\", \"BUR\", \"MOB\", \"FOD\", \"BQK\", \"CHO\", \"ASE\", \"RIC\", \"COU\", \"DLH\",\n",
        "    \"MSP\", \"VEL\", \"ROC\", \"BHM\", \"ORD\", \"VPS\", \"LAW\", \"GTF\", \"CPR\", \"STC\", \"CMH\", \"CMI\", \"SHV\", \"ORH\", \"MHT\",\n",
        "    \"PDX\", \"SLN\", \"RDU\", \"CVG\", \"BJI\", \"RKS\", \"CDV\", \"BIL\", \"CLE\", \"ATL\", \"LEX\", \"STL\", \"HSV\", \"SCE\", \"RDD\",\n",
        "    \"GCK\", \"PHX\", \"WRG\", \"AZO\", \"EAT\", \"BOS\", \"ERI\", \"SFO\", \"BTM\", \"CAK\", \"LAS\", \"PIB\", \"MDW\", \"OGS\", \"PVU\",\n",
        "    \"CAE\", \"AKN\", \"ALB\", \"PHL\", \"LCH\", \"TEX\", \"SAF\", \"ABQ\", \"AEX\", \"ALW\", \"BFF\", \"BIH\", \"CID\", \"CKB\", \"FAT\",\n",
        "    \"GGG\", \"HNL\", \"ILM\", \"IMT\", \"ITH\", \"JFK\", \"JST\", \"LCK\", \"MCO\", \"MCW\", \"MFE\", \"OAK\", \"PRC\", \"SFB\", \"SPI\",\n",
        "    \"STS\", \"TRI\", \"TTN\", \"TUS\", \"TWS\", \"VCT\"\n",
        "]\n",
        "\n",
        "# Creating an encoding map sorted alphabetically\n",
        "airport_labels = {code: i for i, code in enumerate(sorted(airport_codes))}\n",
        "\n",
        "# Adding a new column to the DataFrame with the encoded values\n",
        "df_arrivals['Dest_encoded'] = df_arrivals['Dest'].map(airport_labels)"
      ]
    },
    {
      "cell_type": "markdown",
      "metadata": {
        "nteract": {
          "transient": {
            "deleting": false
          }
        }
      },
      "source": [
        "### Encoding the rain"
      ]
    },
    {
      "cell_type": "code",
      "execution_count": 18,
      "metadata": {
        "gather": {
          "logged": 1738073809674
        }
      },
      "outputs": [
        {
          "name": "stdout",
          "output_type": "stream",
          "text": [
            "{'Heavy rain': 0, 'Light rain': 1, 'Moderate rain': 2, 'No rain': 3}\n"
          ]
        },
        {
          "name": "stderr",
          "output_type": "stream",
          "text": [
            "/tmp/ipykernel_5322/2555258198.py:7: SettingWithCopyWarning: \n",
            "A value is trying to be set on a copy of a slice from a DataFrame.\n",
            "Try using .loc[row_indexer,col_indexer] = value instead\n",
            "\n",
            "See the caveats in the documentation: https://pandas.pydata.org/pandas-docs/stable/user_guide/indexing.html#returning-a-view-versus-a-copy\n",
            "  df_arrivals['rain_category_Arr_encoded'] = encoder.fit_transform(df_arrivals['rain_category_Arr'])\n"
          ]
        }
      ],
      "source": [
        "# Creating an instance of LabelEncoder\n",
        "encoder = LabelEncoder()\n",
        "\n",
        "# Fitting the encoder and transforming the 'rain_category_Arr' column\n",
        "df_arrivals['rain_category_Arr_encoded'] = encoder.fit_transform(df_arrivals['rain_category_Arr'])\n",
        "\n",
        "# Optionally, to see the mapping from categorical labels to integers\n",
        "label_mapping = dict(zip(encoder.classes_, encoder.transform(encoder.classes_)))\n",
        "print(label_mapping)"
      ]
    },
    {
      "cell_type": "code",
      "execution_count": 19,
      "metadata": {
        "gather": {
          "logged": 1738074146835
        }
      },
      "outputs": [
        {
          "name": "stdout",
          "output_type": "stream",
          "text": [
            "        rain_category_Arr  rain_category_Arr_encoded\n",
            "0                 No rain                          3\n",
            "1                 No rain                          3\n",
            "2                 No rain                          3\n",
            "3                 No rain                          3\n",
            "4              Light rain                          1\n",
            "...                   ...                        ...\n",
            "5407542           No rain                          3\n",
            "5407544           No rain                          3\n",
            "5407545           No rain                          3\n",
            "5407546           No rain                          3\n",
            "5407547        Light rain                          1\n",
            "\n",
            "[5231485 rows x 2 columns]\n"
          ]
        }
      ],
      "source": [
        "# Check the first few entries of the new encoded column\n",
        "print(df_arrivals[['rain_category_Arr', 'rain_category_Arr_encoded']])"
      ]
    },
    {
      "cell_type": "markdown",
      "metadata": {
        "nteract": {
          "transient": {
            "deleting": false
          }
        }
      },
      "source": [
        "### Splitting the dataset"
      ]
    },
    {
      "cell_type": "code",
      "execution_count": 20,
      "metadata": {
        "gather": {
          "logged": 1738074408078
        }
      },
      "outputs": [
        {
          "name": "stdout",
          "output_type": "stream",
          "text": [
            "Training set size: 3923613 samples\n",
            "Testing set size: 1307872 samples\n"
          ]
        }
      ],
      "source": [
        "# Define features and target\n",
        "X = df_arrivals.drop('ArrDelay', axis=1)  # all other columns are features\n",
        "y = df_arrivals['ArrDelay']  # ArrDelay is the target\n",
        "\n",
        "# Split the dataset into training (75%) and testing (25%) sets\n",
        "X_train, X_test, y_train, y_test = train_test_split(X, y, test_size=0.25, random_state=42)\n",
        "\n",
        "# Output the sizes of the train and test sets to verify\n",
        "print(f\"Training set size: {X_train.shape[0]} samples\")\n",
        "print(f\"Testing set size: {X_test.shape[0]} samples\")"
      ]
    },
    {
      "cell_type": "markdown",
      "metadata": {
        "nteract": {
          "transient": {
            "deleting": false
          }
        }
      },
      "source": [
        "### Preparing the data"
      ]
    },
    {
      "cell_type": "code",
      "execution_count": 21,
      "metadata": {
        "gather": {
          "logged": 1738074590168
        }
      },
      "outputs": [
        {
          "name": "stdout",
          "output_type": "stream",
          "text": [
            "0    473\n",
            "1    473\n",
            "2    473\n",
            "3    473\n",
            "4    935\n",
            "Name: CRSArrTime, dtype: int64\n"
          ]
        },
        {
          "name": "stderr",
          "output_type": "stream",
          "text": [
            "/tmp/ipykernel_5322/849323295.py:2: SettingWithCopyWarning: \n",
            "A value is trying to be set on a copy of a slice from a DataFrame.\n",
            "Try using .loc[row_indexer,col_indexer] = value instead\n",
            "\n",
            "See the caveats in the documentation: https://pandas.pydata.org/pandas-docs/stable/user_guide/indexing.html#returning-a-view-versus-a-copy\n",
            "  df_arrivals['CRSArrTime'] = df_arrivals['CRSArrTime'].apply(lambda x: int(x.split(':')[0]) * 60 + int(x.split(':')[1]))\n"
          ]
        }
      ],
      "source": [
        "# Convert 'CRSArrTime' from 'HH:MM' format to minutes past midnight\n",
        "df_arrivals['CRSArrTime'] = df_arrivals['CRSArrTime'].apply(lambda x: int(x.split(':')[0]) * 60 + int(x.split(':')[1]))\n",
        "\n",
        "# Confirm the transformation\n",
        "print(df_arrivals['CRSArrTime'].head())"
      ]
    },
    {
      "cell_type": "code",
      "execution_count": null,
      "metadata": {},
      "outputs": [],
      "source": []
    },
    {
      "cell_type": "code",
      "execution_count": null,
      "metadata": {
        "gather": {
          "logged": 1738076444599
        }
      },
      "outputs": [
        {
          "name": "stdout",
          "output_type": "stream",
          "text": [
            "                   precision    recall  f1-score   support\n",
            "\n",
            "   0 min - 1 hour     0.5634    0.4994    0.5295    442031\n",
            "        1-3 hours     0.3856    0.2128    0.2742     96728\n",
            "            early     0.7780    0.8924    0.8313    745585\n",
            "more than 3 hours     0.1933    0.0612    0.0930     23528\n",
            "\n",
            "         accuracy                         0.6943   1307872\n",
            "        macro avg     0.4800    0.4164    0.4320   1307872\n",
            "     weighted avg     0.6659    0.6943    0.6748   1307872\n",
            "\n"
          ]
        }
      ],
      "source": [
        "# Define features and target variable, ensuring no non-numeric columns are included\n",
        "X = df_arrivals.drop(['ArrDelay', 'Dest', 'rain_category_Arr'], axis=1)  # Adjust this line if there are other non-numeric columns\n",
        "y = df_arrivals['ArrDelay']\n",
        "\n",
        "y = y.apply(\n",
        "    lambda row:\n",
        "        'early' if row < 0\n",
        "        else ('0 min - 1 hour' if row <= 60\n",
        "        else ('1-3 hours' if row <= 180\n",
        "        else 'more than 3 hours'\n",
        "        ))\n",
        ")\n",
        "\n",
        "# Split the dataset\n",
        "X_train, X_test, y_train, y_test = train_test_split(X, y, test_size=0.25, random_state=42)\n",
        "\n",
        "# Continue with the setup of the RandomForestClassifier\n",
        "classifier = RandomForestClassifier(n_estimators=100, random_state=42)\n",
        "classifier.fit(X_train, y_train)\n",
        "\n",
        "# Predicting and evaluating\n",
        "y_pred_class = classifier.predict(X_test)\n",
        "\n",
        "# Printing classification report\n",
        "report = classification_report(y_test, y_pred_class, digits=4)\n",
        "print(report)"
      ]
    },
    {
      "cell_type": "markdown",
      "metadata": {
        "nteract": {
          "transient": {
            "deleting": false
          }
        }
      },
      "source": [
        "### Saving to csv"
      ]
    },
    {
      "cell_type": "code",
      "execution_count": 27,
      "metadata": {
        "gather": {
          "logged": 1738079219104
        }
      },
      "outputs": [
        {
          "name": "stdout",
          "output_type": "stream",
          "text": [
            "File arrivalsml.csv successfully saved in azureml on Azure Blob Storage.\n"
          ]
        }
      ],
      "source": [
        "connect_str = 'DefaultEndpointsProtocol=https;AccountName=mlpw5g48966911887;AccountKey=mrAhppNTLycLK1odEtWiGfubfle5TJfUMwex5QV2+Q8Ggk6kMSvBUXwY+JTILISiJjRqNhEIr/oJ+AStpDybJQ==;EndpointSuffix=core.windows.net'  \n",
        "container_name = 'azureml' \n",
        "blob_name = 'arrivalsml.csv'  \n",
        "\n",
        "blob_service_client = BlobServiceClient.from_connection_string(connect_str)\n",
        "container_client = blob_service_client.get_container_client(container_name)\n",
        "\n",
        "output = StringIO()\n",
        "df_arrivals.to_csv(output, index=False)\n",
        "output.seek(0)\n",
        "\n",
        "blob_client = container_client.get_blob_client(blob_name)\n",
        "blob_client.upload_blob(output.getvalue(), overwrite=True)\n",
        "\n",
        "print(f\"File {blob_name} successfully saved in {container_name} on Azure Blob Storage.\")"
      ]
    }
  ],
  "metadata": {
    "kernel_info": {
      "name": "python38-azureml"
    },
    "kernelspec": {
      "display_name": "Python 3.10 - SDK v2",
      "language": "python",
      "name": "python310-sdkv2"
    },
    "language_info": {
      "codemirror_mode": {
        "name": "ipython",
        "version": 3
      },
      "file_extension": ".py",
      "mimetype": "text/x-python",
      "name": "python",
      "nbconvert_exporter": "python",
      "pygments_lexer": "ipython3",
      "version": "3.10.14"
    },
    "microsoft": {
      "host": {
        "AzureML": {
          "notebookHasBeenCompleted": true
        }
      }
    },
    "nteract": {
      "version": "nteract-front-end@1.0.0"
    }
  },
  "nbformat": 4,
  "nbformat_minor": 2
}
